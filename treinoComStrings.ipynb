{
 "cells": [
  {
   "cell_type": "code",
   "execution_count": 12,
   "metadata": {},
   "outputs": [
    {
     "name": "stdout",
     "output_type": "stream",
     "text": [
      "Marca inexistente!\n"
     ]
    }
   ],
   "source": [
    "# Lidando com Strings\n",
    "\n",
    "chevrolet = 'corsa', 'onix', 'cruze', 'celta'\n",
    "nissan = 'sentra', 'kicks', 'march', 'R34'\n",
    "volksvagen = 'gol', 'amarok', 'fox', 'jetta'\n",
    "\n",
    "marca_carro = str(input(\"Digite o modelo do seu carro: \"))\n",
    "\n",
    "# Estrutura de condição\n",
    "if marca_carro == \"corsa\" or marca_carro == 'onix' or marca_carro == \"cruze\" or marca_carro == \"celta\":\n",
    "    print(\"Chevrolet!\")\n",
    "elif marca_carro == 'sentra' or marca_carro == 'kicks' or marca_carro == 'march' or marca_carro == 'R34':\n",
    "    print(\"Nissan!\")\n",
    "elif marca_carro == 'gol' or marca_carro == 'amarok' or marca_carro == 'fox' or marca_carro == 'jetta':\n",
    "    print(\"Volksvagen!\")\n",
    "else:\n",
    "    print(\"Marca inexistente!\")"
   ]
  }
 ],
 "metadata": {
  "kernelspec": {
   "display_name": "Python 3",
   "language": "python",
   "name": "python3"
  },
  "language_info": {
   "codemirror_mode": {
    "name": "ipython",
    "version": 3
   },
   "file_extension": ".py",
   "mimetype": "text/x-python",
   "name": "python",
   "nbconvert_exporter": "python",
   "pygments_lexer": "ipython3",
   "version": "3.12.5"
  }
 },
 "nbformat": 4,
 "nbformat_minor": 2
}
